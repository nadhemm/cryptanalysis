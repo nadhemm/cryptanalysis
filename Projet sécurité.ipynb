{
 "cells": [
  {
   "cell_type": "markdown",
   "metadata": {},
   "source": [
    "Utility functions:"
   ]
  },
  {
   "cell_type": "code",
   "execution_count": 1,
   "metadata": {},
   "outputs": [],
   "source": [
    "def shift(char, key, encrypt):\n",
    "    if not char.isalpha():\n",
    "        return char\n",
    "    if encrypt:\n",
    "        aux = ord(char)+key\n",
    "        if char.istitle() and aux>ord('Z') or not char.istitle() and aux>ord('z'):\n",
    "            aux-=26\n",
    "        return chr(aux)\n",
    "    else:\n",
    "        aux = ord(char)-key\n",
    "        if char.istitle() and aux<ord('A') or not char.istitle() and aux<ord('a'):\n",
    "            aux+=26\n",
    "        return chr(aux)"
   ]
  },
  {
   "cell_type": "markdown",
   "metadata": {},
   "source": [
    "# Cesar"
   ]
  },
  {
   "cell_type": "markdown",
   "metadata": {},
   "source": [
    "## Cesar Encryption/ Decryption"
   ]
  },
  {
   "cell_type": "code",
   "execution_count": 13,
   "metadata": {},
   "outputs": [],
   "source": [
    "def cesar_encrypt(key, input_file=\"plain.txt\", output_file=\"plain.txt\"):\n",
    "    f=open(input_file, \"r\")\n",
    "    input_text =f.read()        \n",
    "    output_text = \"\"\n",
    "    for c in input_text:\n",
    "        output_text += shift(c, key, action.lower()=='e')\n",
    "\n",
    "    print(\"Your output text is:\", output_text)\n",
    "    f= open(output_file,\"w+\")\n",
    "    f.write(output_text)"
   ]
  },
  {
   "cell_type": "code",
   "execution_count": 21,
   "metadata": {},
   "outputs": [
    {
     "name": "stdout",
     "output_type": "stream",
     "text": [
      "What is the name of the input file?\n",
      "\n",
      "Please enter you key:\n",
      "Key: 1\n",
      "Dou you want to [e]ncrypt or [d]ecrypt the file?\n",
      "e\n",
      "What is the name of the output file?\n",
      "\n",
      "Your output text is: jtmfn cfo bzfe\n",
      "\n",
      "\n"
     ]
    }
   ],
   "source": [
    "input_file = input(\"What is the name of the input file?\\n\") or \"plain.txt\"\n",
    "key = int(input(\"Please enter you key:\\nKey: \"))\n",
    "action = input(\"Dou you want to [e]ncrypt or [d]ecrypt the file?\\n\") or \"e\"\n",
    "output_file = input(\"What is the name of the output file?\\n\") or \"cipher.txt\"\n",
    "\n",
    "cesar_encrypt(key, input_file, output_file)"
   ]
  },
  {
   "cell_type": "markdown",
   "metadata": {},
   "source": [
    "## Cracking the Cesar algorithm"
   ]
  },
  {
   "cell_type": "code",
   "execution_count": 6,
   "metadata": {},
   "outputs": [
    {
     "name": "stdout",
     "output_type": "stream",
     "text": [
      "What is the name of the input file?\n",
      "\n",
      "Cipher text: opwm cee gsl fprxc qy wpyuc wiqf l xmpq uy ryu auw zqdiml pp xiadaneeq aiyp bzozmuc fi jucy jyotfikqyn nyvzoxc qywspq oo xcjey tmgc itruxcwcd xir yxrivgfsgi bq nlcnfsielmwswcopwm cee gsl fprxc qy wpyuc wiqf l xmpq uy ryu auw zqdiml pp xiadaneeq aiyp bzozmuc fi jucy jyotfikqyn nyvzoxc qywspq oo xcjey tmgc itruxcwcd xir yxrivgfsgi bq nlcnfsielmwswcopwm cee gsl fprxc qy wpyuc wiqf l xmpq uy ryu auw zqdiml pp xiadaneeq aiyp bzozmuc fi jucy jyotfikqyn nyvzoxc qywspq oo xcjey tmgc itruxcwcd xir yxrivgfsgi bq nlcnfsielmwswcopwm cee gsl fprxc qy wpyuc wiqf l xmpq uy ryu auw zqdiml pp xiadaneeq aiyp bzozmuc fi jucy jyotfikqyn nyvzoxc qywspq oo xcjey tmgc itruxcwcd xir yxrivgfsgi bq nlcnfsielmwswcopwm cee gsl fprxc qy wpyuc wiqf l xmpq uy ryu auw zqdiml pp xiadaneeq aiyp bzozmuc fi jucy jyotfikqyn nyvzoxc qywspq oo xcjey tmgc itruxcwcd xir yxrivgfsgi bq nlcnfsielmwswcopwm cee gsl fprxc qy wpyuc wiqf l xmpq uy ryu auw zqdiml pp xiadaneeq aiyp bzozmuc fi jucy jyotfikqyn nyvzoxc qywspq oo xcjey tmgc itruxcwcd xir yxrivgfsgi bq nlcnfsielmwswcopwm cee gsl fprxc qy wpyuc wiqf l xmpq uy ryu auw zqdiml pp xiadaneeq aiyp bzozmuc fi jucy jyotfikqyn nyvzoxc qywspq oo xcjey tmgc itruxcwcd xir yxrivgfsgi bq nlcnfsielmwswcopwm cee gsl fprxc qy wpyuc wiqf l xmpq uy ryu auw zqdiml pp xiadaneeq aiyp bzozmuc fi jucy jyotfikqyn nyvzoxc qywspq oo xcjey tmgc itruxcwcd xir yxrivgfsgi bq nlcnfsielmwswcopwm cee gsl fprxc qy wpyuc wiqf l xmpq uy ryu auw zqdiml pp xiadaneeq aiyp bzozmuc fi jucy jyotfikqyn nyvzoxc qywspq oo xcjey tmgc itruxcwcd xir yxrivgfsgi bq nlcnfsielmwswcopwm cee gsl fprxc qy wpyuc wiqf l xmpq uy ryu auw zqdiml pp xiadaneeq aiyp bzozmuc fi jucy jyotfikqyn nyvzoxc qywspq oo xcjey tmgc itruxcwcd xir yxrivgfsgi bq nlcnfsielmwswcopwm cee gsl fprxc qy wpyuc wiqf l xmpq uy ryu auw zqdiml pp xiadaneeq aiyp bzozmuc fi jucy jyotfikqyn nyvzoxc qywspq oo xcjey tmgc itruxcwcd xir yxrivgfsgi bq nlcnfsielmwswcopwm cee gsl fprxc qy wpyuc wiqf l xmpq uy ryu auw zqdiml pp xiadaneeq aiyp bzozmuc fi jucy jyotfikqyn nyvzoxc qywspq oo xcjey tmgc itruxcwcd xir yxrivgfsgi bq nlcnfsielmwswcopwm cee gsl fprxc qy wpyuc wiqf l xmpq uy ryu auw zqdiml pp xiadaneeq aiyp bzozmuc fi jucy jyotfikqyn nyvzoxc qywspq oo xcjey tmgc itruxcwcd xir yxrivgfsgi bq nlcnfsielmwswcopwm cee gsl fprxc qy wpyuc wiqf l xmpq uy ryu auw zqdiml pp xiadaneeq aiyp bzozmuc fi jucy jyotfikqyn nyvzoxc qywspq oo xcjey tmgc itruxcwcd xir yxrivgfsgi bq nlcnfsielmwswc\n",
      "\n",
      "\n",
      "The possible key is: 20\n",
      "Decryption in progress...\n",
      "\n",
      "Your output text is: uvcs ikk myr lvxdi we cveai cowl r dsvw ae xea gac fwjosr vv dogjgtkkw goev hfufsai lo paie peuzloqwet tebfudi wecyvw uu dipke zsmi ozxadicij dox edxobmlymo hw tritlyokrscyciuvcs ikk myr lvxdi we cveai cowl r dsvw ae xea gac fwjosr vv dogjgtkkw goev hfufsai lo paie peuzloqwet tebfudi wecyvw uu dipke zsmi ozxadicij dox edxobmlymo hw tritlyokrscyciuvcs ikk myr lvxdi we cveai cowl r dsvw ae xea gac fwjosr vv dogjgtkkw goev hfufsai lo paie peuzloqwet tebfudi wecyvw uu dipke zsmi ozxadicij dox edxobmlymo hw tritlyokrscyciuvcs ikk myr lvxdi we cveai cowl r dsvw ae xea gac fwjosr vv dogjgtkkw goev hfufsai lo paie peuzloqwet tebfudi wecyvw uu dipke zsmi ozxadicij dox edxobmlymo hw tritlyokrscyciuvcs ikk myr lvxdi we cveai cowl r dsvw ae xea gac fwjosr vv dogjgtkkw goev hfufsai lo paie peuzloqwet tebfudi wecyvw uu dipke zsmi ozxadicij dox edxobmlymo hw tritlyokrscyciuvcs ikk myr lvxdi we cveai cowl r dsvw ae xea gac fwjosr vv dogjgtkkw goev hfufsai lo paie peuzloqwet tebfudi wecyvw uu dipke zsmi ozxadicij dox edxobmlymo hw tritlyokrscyciuvcs ikk myr lvxdi we cveai cowl r dsvw ae xea gac fwjosr vv dogjgtkkw goev hfufsai lo paie peuzloqwet tebfudi wecyvw uu dipke zsmi ozxadicij dox edxobmlymo hw tritlyokrscyciuvcs ikk myr lvxdi we cveai cowl r dsvw ae xea gac fwjosr vv dogjgtkkw goev hfufsai lo paie peuzloqwet tebfudi wecyvw uu dipke zsmi ozxadicij dox edxobmlymo hw tritlyokrscyciuvcs ikk myr lvxdi we cveai cowl r dsvw ae xea gac fwjosr vv dogjgtkkw goev hfufsai lo paie peuzloqwet tebfudi wecyvw uu dipke zsmi ozxadicij dox edxobmlymo hw tritlyokrscyciuvcs ikk myr lvxdi we cveai cowl r dsvw ae xea gac fwjosr vv dogjgtkkw goev hfufsai lo paie peuzloqwet tebfudi wecyvw uu dipke zsmi ozxadicij dox edxobmlymo hw tritlyokrscyciuvcs ikk myr lvxdi we cveai cowl r dsvw ae xea gac fwjosr vv dogjgtkkw goev hfufsai lo paie peuzloqwet tebfudi wecyvw uu dipke zsmi ozxadicij dox edxobmlymo hw tritlyokrscyciuvcs ikk myr lvxdi we cveai cowl r dsvw ae xea gac fwjosr vv dogjgtkkw goev hfufsai lo paie peuzloqwet tebfudi wecyvw uu dipke zsmi ozxadicij dox edxobmlymo hw tritlyokrscyciuvcs ikk myr lvxdi we cveai cowl r dsvw ae xea gac fwjosr vv dogjgtkkw goev hfufsai lo paie peuzloqwet tebfudi wecyvw uu dipke zsmi ozxadicij dox edxobmlymo hw tritlyokrscyciuvcs ikk myr lvxdi we cveai cowl r dsvw ae xea gac fwjosr vv dogjgtkkw goev hfufsai lo paie peuzloqwet tebfudi wecyvw uu dipke zsmi ozxadicij dox edxobmlymo hw tritlyokrscyci\n",
      "\n",
      "\n"
     ]
    }
   ],
   "source": [
    "file_name = input(\"What is the name of the input file?\\n\") or \"cipher.txt\"\n",
    "f=open(file_name, \"r\")\n",
    "cipher_text =f.read()\n",
    "print(\"Cipher text:\", cipher_text)\n",
    "\n",
    "dict={}\n",
    "mx = cipher_text[0]\n",
    "for c in cipher_text.replace(\" \",\"\"):\n",
    "    if c in dict: dict[c]+=1\n",
    "    else: dict[c]=1\n",
    "    if dict[c]>dict[mx]: mx=c\n",
    "        \n",
    "key = ord(mx)-ord('e')\n",
    "if key<0: key+=26\n",
    "print(\"The possible key is:\", key)\n",
    "print(\"Decryption in progress...\\n\")\n",
    "\n",
    "output_text = \"\"\n",
    "for c in cipher_text:\n",
    "    output_text += shift(c, key, encrypt=False)\n",
    "    \n",
    "print(\"Your output text is:\", output_text)"
   ]
  },
  {
   "cell_type": "markdown",
   "metadata": {},
   "source": [
    "# Vigenere Algorithm"
   ]
  },
  {
   "cell_type": "code",
   "execution_count": null,
   "metadata": {},
   "outputs": [],
   "source": [
    "file_name = input(\"What is the name of the input file?\\n\")\n",
    "f=open(file_name, \"r\")\n",
    "input_text =f.read()\n",
    "key = int(input(\"Please enter the key (ex: ThisIsMyKey\":\\nKey: \"))\n",
    "action = input(\"Dou you want to [e]ncrypt or [d]ecrypt the file?\\n\")\n",
    "        \n",
    "output_text = \"\"\n",
    "for c in input_text:\n",
    "    output_text += shift(c, key, action.lower()=='e')\n",
    "    \n",
    "print(\"Your output text is:\", output_text)\n",
    "\n",
    "file_name = input(\"What is the name of the output file?\\n\")\n",
    "f= open(file_name,\"w+\")\n",
    "f.write(output_text)"
   ]
  },
  {
   "cell_type": "markdown",
   "metadata": {},
   "source": [
    "\n",
    "# Cracking vigenere alorithm"
   ]
  },
  {
   "cell_type": "code",
   "execution_count": 74,
   "metadata": {},
   "outputs": [
    {
     "name": "stdout",
     "output_type": "stream",
     "text": [
      "What is the name of the input file?\n",
      "\n",
      "Cipher text: opwm cee gsl fprxc qy wpyuc wiqf l xmpq uy ryu auw zqdiml pp xiadaneeq aiyp bzozmuc fi jucy jyotfikqyn nyvzoxc qywspq oo xcjey tmgc itruxcwcd xir yxrivgfsgi bq nlcnfsielmwswcopwm cee gsl fprxc qy wpyuc wiqf l xmpq uy ryu auw zqdiml pp xiadaneeq aiyp bzozmuc fi jucy jyotfikqyn nyvzoxc qywspq oo xcjey tmgc itruxcwcd xir yxrivgfsgi bq nlcnfsielmwswcopwm cee gsl fprxc qy wpyuc wiqf l xmpq uy ryu auw zqdiml pp xiadaneeq aiyp bzozmuc fi jucy jyotfikqyn nyvzoxc qywspq oo xcjey tmgc itruxcwcd xir yxrivgfsgi bq nlcnfsielmwswcopwm cee gsl fprxc qy wpyuc wiqf l xmpq uy ryu auw zqdiml pp xiadaneeq aiyp bzozmuc fi jucy jyotfikqyn nyvzoxc qywspq oo xcjey tmgc itruxcwcd xir yxrivgfsgi bq nlcnfsielmwswcopwm cee gsl fprxc qy wpyuc wiqf l xmpq uy ryu auw zqdiml pp xiadaneeq aiyp bzozmuc fi jucy jyotfikqyn nyvzoxc qywspq oo xcjey tmgc itruxcwcd xir yxrivgfsgi bq nlcnfsielmwswcopwm cee gsl fprxc qy wpyuc wiqf l xmpq uy ryu auw zqdiml pp xiadaneeq aiyp bzozmuc fi jucy jyotfikqyn nyvzoxc qywspq oo xcjey tmgc itruxcwcd xir yxrivgfsgi bq nlcnfsielmwswcopwm cee gsl fprxc qy wpyuc wiqf l xmpq uy ryu auw zqdiml pp xiadaneeq aiyp bzozmuc fi jucy jyotfikqyn nyvzoxc qywspq oo xcjey tmgc itruxcwcd xir yxrivgfsgi bq nlcnfsielmwswcopwm cee gsl fprxc qy wpyuc wiqf l xmpq uy ryu auw zqdiml pp xiadaneeq aiyp bzozmuc fi jucy jyotfikqyn nyvzoxc qywspq oo xcjey tmgc itruxcwcd xir yxrivgfsgi bq nlcnfsielmwswcopwm cee gsl fprxc qy wpyuc wiqf l xmpq uy ryu auw zqdiml pp xiadaneeq aiyp bzozmuc fi jucy jyotfikqyn nyvzoxc qywspq oo xcjey tmgc itruxcwcd xir yxrivgfsgi bq nlcnfsielmwswcopwm cee gsl fprxc qy wpyuc wiqf l xmpq uy ryu auw zqdiml pp xiadaneeq aiyp bzozmuc fi jucy jyotfikqyn nyvzoxc qywspq oo xcjey tmgc itruxcwcd xir yxrivgfsgi bq nlcnfsielmwswcopwm cee gsl fprxc qy wpyuc wiqf l xmpq uy ryu auw zqdiml pp xiadaneeq aiyp bzozmuc fi jucy jyotfikqyn nyvzoxc qywspq oo xcjey tmgc itruxcwcd xir yxrivgfsgi bq nlcnfsielmwswcopwm cee gsl fprxc qy wpyuc wiqf l xmpq uy ryu auw zqdiml pp xiadaneeq aiyp bzozmuc fi jucy jyotfikqyn nyvzoxc qywspq oo xcjey tmgc itruxcwcd xir yxrivgfsgi bq nlcnfsielmwswcopwm cee gsl fprxc qy wpyuc wiqf l xmpq uy ryu auw zqdiml pp xiadaneeq aiyp bzozmuc fi jucy jyotfikqyn nyvzoxc qywspq oo xcjey tmgc itruxcwcd xir yxrivgfsgi bq nlcnfsielmwswcopwm cee gsl fprxc qy wpyuc wiqf l xmpq uy ryu auw zqdiml pp xiadaneeq aiyp bzozmuc fi jucy jyotfikqyn nyvzoxc qywspq oo xcjey tmgc itruxcwcd xir yxrivgfsgi bq nlcnfsielmwswc\n",
      "\n",
      "\n",
      "The possible key length is: 5\n"
     ]
    }
   ],
   "source": [
    "import math\n",
    "file_name = input(\"What is the name of the input file?\\n\") or \"cipher.txt\"\n",
    "f=open(file_name, \"r\")\n",
    "cipher_text =f.read()\n",
    "print(\"Cipher text:\", cipher_text)\n",
    "copy_cipher = cipher_text\n",
    "occ = {}\n",
    "\n",
    "cipher_text=cipher_text.replace(' ','')\n",
    "for i in range(0, len(cipher_text)-3):\n",
    "    for j in range(i+3, len(cipher_text)-1):\n",
    "        if cipher_text.count(cipher_text[i:j])>=2:\n",
    "            sub = cipher_text[i:j]\n",
    "            first_idx = cipher_text.index(sub)\n",
    "            occ[sub]=cipher_text.index(sub,1+first_idx)-first_idx\n",
    "# print(\"occ\",occ)\n",
    "gcd=None\n",
    "for el in occ:\n",
    "    if not gcd: gcd = occ[el]\n",
    "    else: gcd=math.gcd(gcd,occ[el])\n",
    "print(\"The possible key length is:\", gcd)\n",
    "\n"
   ]
  },
  {
   "cell_type": "code",
   "execution_count": 75,
   "metadata": {},
   "outputs": [
    {
     "name": "stdout",
     "output_type": "stream",
     "text": [
      "Decrypting the key..\n",
      "The possible key is: MYEEY\n"
     ]
    }
   ],
   "source": [
    "print(\"Decrypting the key..\")\n",
    "dicts = []\n",
    "mx=[]\n",
    "for i in range(gcd):\n",
    "    dicts.append({})\n",
    "    mx.append(cipher_text[i])\n",
    "key = {}\n",
    "idx=0\n",
    "for c in cipher_text:\n",
    "    if c in dicts[idx%gcd]: dicts[idx%gcd][c]+=1\n",
    "    else: dicts[idx%gcd][c]=1\n",
    "#     print(mx[idx%gcd])\n",
    "    if dicts[idx%gcd][c]>dicts[idx%gcd][mx[idx%gcd]]: \n",
    "        mx[idx%gcd]=c\n",
    "    idx+=1\n",
    "\n",
    "for i in range(gcd):\n",
    "    key[i] = ord(mx[i])-ord('e')\n",
    "    if key[i]<0: key[i]+=26\n",
    "final_key = \"\"\n",
    "for k in key:\n",
    "    final_key+=chr(65+key[k])\n",
    "print(\"The possible key is:\", final_key)\n"
   ]
  },
  {
   "cell_type": "code",
   "execution_count": 52,
   "metadata": {},
   "outputs": [
    {
     "data": {
      "text/plain": [
       "[{}, {}, {}, {}, {}]"
      ]
     },
     "execution_count": 52,
     "metadata": {},
     "output_type": "execute_result"
    }
   ],
   "source": [
    "dicts"
   ]
  }
 ],
 "metadata": {
  "kernelspec": {
   "display_name": "Python 3",
   "language": "python",
   "name": "python3"
  },
  "language_info": {
   "codemirror_mode": {
    "name": "ipython",
    "version": 3
   },
   "file_extension": ".py",
   "mimetype": "text/x-python",
   "name": "python",
   "nbconvert_exporter": "python",
   "pygments_lexer": "ipython3",
   "version": "3.6.7"
  }
 },
 "nbformat": 4,
 "nbformat_minor": 2
}
